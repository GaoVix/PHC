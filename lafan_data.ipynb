{
 "cells": [
  {
   "cell_type": "code",
   "execution_count": 83,
   "id": "e5e24823-0137-45f8-9ba2-98a1aa0d9328",
   "metadata": {},
   "outputs": [
    {
     "name": "stderr",
     "output_type": "stream",
     "text": [
      "2025-03-10 16:43:47,937 - DEBUG - Setting JobRuntime:name=notebook\n"
     ]
    },
    {
     "name": "stdout",
     "output_type": "stream",
     "text": [
      "WARNING: You are using a SMPL model, with only 10 shape coefficients.\n"
     ]
    },
    {
     "name": "stderr",
     "output_type": "stream",
     "text": [
      "100%|██████████████████████████████████████████████████████████████████████████████████████| 36/36 [00:00<00:00, 112.81it/s]\n",
      "100%|████████████████████████████████████████████████████████████████████████████████████| 75/75 [00:00<00:00, 80248.16it/s]\n"
     ]
    }
   ],
   "source": [
    "import csv\n",
    "import numpy as np\n",
    "import glob\n",
    "import os\n",
    "import sys\n",
    "import pdb\n",
    "import os.path as osp\n",
    "import xml.etree.ElementTree as ETree\n",
    "sys.path.append(os.getcwd())\n",
    "\n",
    "import torch\n",
    "import numpy as np\n",
    "from stl import mesh\n",
    "from tqdm import tqdm\n",
    "\n",
    "from phc.utils.torch_humanoid_batch import Humanoid_Batch\n",
    "import os\n",
    "from hydra import initialize, initialize_config_module, initialize_config_dir, compose\n",
    "from omegaconf import OmegaConf\n",
    "from collections import defaultdict\n",
    "from scipy.spatial.transform import Rotation as sRot\n",
    "import copy\n",
    "\n",
    "import joblib\n",
    "from smpl_sim.smpllib.smpl_parser import (\n",
    "    SMPL_Parser,\n",
    "    SMPLH_Parser,\n",
    "    SMPLX_Parser, \n",
    ")\n",
    "from smpl_sim.smpllib.smpl_joint_names import SMPL_MUJOCO_NAMES, SMPL_BONE_ORDER_NAMES, SMPLH_BONE_ORDER_NAMES, SMPLH_MUJOCO_NAMES\n",
    "\n",
    "\n",
    "smpl_parser_n = SMPL_Parser(model_path=\"data/smpl\", gender=\"neutral\")\n",
    "\n",
    "with initialize(version_base=None, config_path=\"phc/data/cfg/\"):\n",
    "    cfg = compose(overrides=[\"+robot=unitree_g1_29dof_fitting\"])\n",
    "humanoid_fk = Humanoid_Batch(cfg.robot)\n",
    "\n",
    "\n"
   ]
  },
  {
   "cell_type": "code",
   "execution_count": 64,
   "id": "044fbed4-4eaf-43cf-ab9a-2cdc0db5cf8e",
   "metadata": {},
   "outputs": [
    {
     "name": "stdout",
     "output_type": "stream",
     "text": [
      "30\n"
     ]
    },
    {
     "data": {
      "text/plain": [
       "array(['pelvis', 'left_hip_pitch_link', 'left_hip_roll_link',\n",
       "       'left_hip_yaw_link', 'left_knee_link', 'left_ankle_pitch_link',\n",
       "       'left_ankle_roll_link', 'right_hip_pitch_link',\n",
       "       'right_hip_roll_link', 'right_hip_yaw_link', 'right_knee_link',\n",
       "       'right_ankle_pitch_link', 'right_ankle_roll_link',\n",
       "       'waist_yaw_link', 'waist_roll_link', 'torso_link',\n",
       "       'left_shoulder_pitch_link', 'left_shoulder_roll_link',\n",
       "       'left_shoulder_yaw_link', 'left_elbow_link',\n",
       "       'left_wrist_roll_link', 'left_wrist_pitch_link',\n",
       "       'left_wrist_yaw_link', 'right_shoulder_pitch_link',\n",
       "       'right_shoulder_roll_link', 'right_shoulder_yaw_link',\n",
       "       'right_elbow_link', 'right_wrist_roll_link',\n",
       "       'right_wrist_pitch_link', 'right_wrist_yaw_link'], dtype='<U25')"
      ]
     },
     "execution_count": 64,
     "metadata": {},
     "output_type": "execute_result"
    }
   ],
   "source": [
    "atlas_base = \"phc/data/assets/robot/unitree_g1/\"\n",
    "atlas_path = osp.join(atlas_base, \"g1_23dof.xml\")\n",
    "tree = ETree.parse(atlas_path)\n",
    "xml_doc_root = tree.getroot()\n",
    "xml_world_body = xml_doc_root.find(\"worldbody\")\n",
    "\n",
    "xml_assets = xml_doc_root.find(\"asset\")\n",
    "all_mesh = xml_assets.findall(\".//mesh\")\n",
    "\n",
    "geoms = xml_world_body.findall(\".//geom\")\n",
    "\n",
    "all_joints = xml_world_body.findall(\".//joint\")\n",
    "all_joint_names = [m.attrib['name'] for m in all_joints]\n",
    "all_motors = tree.findall(\".//motor\")\n",
    "all_motors_names = [m.attrib['name'] for m in all_motors]\n",
    "all_bodies = xml_world_body.findall(\".//body\")\n",
    "all_bodies_names = [m.attrib['name'] for m in all_bodies]\n",
    "\n",
    "\n",
    "print(len(all_bodies_names))\n",
    "np.array(all_bodies_names)"
   ]
  },
  {
   "cell_type": "code",
   "execution_count": 54,
   "id": "207d7259-a350-4f0c-b26f-400b91226e02",
   "metadata": {},
   "outputs": [],
   "source": [
    "dof_subset = []\n",
    "for i, k in enumerate(all_bodies_names[1:]):\n",
    "    if \"wrist\" in k:\n",
    "        continue\n",
    "    dof_subset.append(i)\n",
    "dof_subset = np.array(dof_subset)"
   ]
  },
  {
   "cell_type": "code",
   "execution_count": null,
   "id": "97bab55d-4333-4042-a015-ad21252514a1",
   "metadata": {},
   "outputs": [],
   "source": []
  },
  {
   "cell_type": "code",
   "execution_count": null,
   "id": "c121d9b3-6bea-4739-82df-9e913a21c8dc",
   "metadata": {},
   "outputs": [],
   "source": []
  },
  {
   "cell_type": "code",
   "execution_count": 106,
   "id": "f8f65c85-0ed5-4294-a9ba-016ebe8ef790",
   "metadata": {},
   "outputs": [
    {
     "name": "stdout",
     "output_type": "stream",
     "text": [
      "fallAndGetUp1_subject4\n",
      "dance1_subject3\n",
      "dance2_subject4\n",
      "fightAndSports1_subject1\n",
      "jumps1_subject1\n",
      "fight1_subject3\n",
      "run1_subject5\n",
      "dance1_subject2\n",
      "walk1_subject5\n",
      "run2_subject1\n",
      "sprint1_subject4\n",
      "jumps1_subject5\n",
      "sprint1_subject2\n",
      "walk2_subject1\n",
      "walk3_subject4\n",
      "walk3_subject2\n",
      "fallAndGetUp2_subject3\n",
      "dance1_subject1\n",
      "fight1_subject5\n",
      "fallAndGetUp1_subject5\n",
      "fallAndGetUp2_subject2\n",
      "walk3_subject3\n",
      "jumps1_subject2\n",
      "walk2_subject4\n",
      "run1_subject2\n",
      "walk1_subject1\n",
      "run2_subject4\n",
      "walk3_subject1\n",
      "dance2_subject5\n",
      "dance2_subject1\n",
      "walk4_subject1\n",
      "dance2_subject2\n",
      "walk2_subject3\n",
      "fallAndGetUp1_subject1\n",
      "walk1_subject2\n",
      "fallAndGetUp3_subject1\n",
      "dance2_subject3\n",
      "fight1_subject2\n",
      "walk3_subject5\n",
      "fightAndSports1_subject4\n"
     ]
    },
    {
     "data": {
      "text/plain": [
       "['data/g1/v1/lafan.pkl']"
      ]
     },
     "execution_count": 106,
     "metadata": {},
     "output_type": "execute_result"
    }
   ],
   "source": [
    "full_lafan = {}\n",
    "fps = 30\n",
    "seq_name = \"dance1_subject1\"\n",
    "for file_name in os.listdir(\"../../nv/LAFAN1_Retargeting_Dataset/g1/\"):\n",
    "    joint_data = []\n",
    "    seq_name = file_name.split(\".\")[0]\n",
    "    print(seq_name)\n",
    "    with open(f'../../nv/LAFAN1_Retargeting_Dataset/g1/{seq_name}.csv', mode='r', newline='') as file:\n",
    "        csv_reader = csv.reader(file)\n",
    "        for row in csv_reader:\n",
    "            joint_data.append([float(i) for i in row])\n",
    "    joint_data = np.array(joint_data)\n",
    "    \n",
    "    \n",
    "    dof = joint_data[:, 7:][:, dof_subset]\n",
    "    root_rot = joint_data[:, 3:7]\n",
    "    root_trans_offset = joint_data[:, :3]\n",
    "    \n",
    "    N = dof.shape[0]\n",
    "    dof_nums = np.arange(humanoid_fk.num_dof).tolist()\n",
    "    dof_pos_selected = (humanoid_fk.dof_axis[None, ] * dof[..., None])[None, ]\n",
    "    pose_aa_h1_new = np.zeros((1, N, len(humanoid_fk.body_names), 3))\n",
    "    pose_aa_h1_new[:, :, humanoid_fk.actuated_joints_idx[np.array(dof_nums) + 1], :] = dof_pos_selected[:, :, dof_nums]\n",
    "    pose_aa_h1_new[:, :, 0:1, :] = sRot.from_quat(root_rot).as_rotvec()[None, :, None, :]\n",
    "    pose_aa_h1_new = pose_aa_h1_new[0]\n",
    "    \n",
    "    \n",
    "    dump = {\n",
    "        \"root_trans_offset\": root_trans_offset.astype(np.float32),\n",
    "        \"pose_aa\": pose_aa_h1_new.astype(np.float32),\n",
    "        \"dof\": dof.astype(np.float32), \n",
    "        \"root_rot\": root_rot.astype(np.float32),\n",
    "        \"smpl_joints\": np.zeros((root_trans_offset.shape[0], 24, 3)).astype(np.float32), \n",
    "        \"fps\": fps\n",
    "    }\n",
    "    dump_dict = {seq_name: dump}\n",
    "    full_lafan[seq_name] = dump \n",
    "    joblib.dump(dump_dict, f\"data/g1/v1/singles/{seq_name}.pkl\", compress=True)\n",
    "    \n",
    "joblib.dump(full_lafan, f\"data/g1/v1/lafan.pkl\")"
   ]
  },
  {
   "cell_type": "code",
   "execution_count": null,
   "id": "0a7d633b-d228-40de-8f15-bf983b966b0e",
   "metadata": {},
   "outputs": [],
   "source": []
  },
  {
   "cell_type": "code",
   "execution_count": null,
   "id": "88809e00-6811-4bb7-b308-950b6d1233c7",
   "metadata": {},
   "outputs": [],
   "source": []
  },
  {
   "cell_type": "code",
   "execution_count": null,
   "id": "8f927a76-a523-4372-9c66-e71af91ab49a",
   "metadata": {},
   "outputs": [],
   "source": []
  },
  {
   "cell_type": "code",
   "execution_count": null,
   "id": "bc353d8a-c25e-4169-a1fe-a7e081a54606",
   "metadata": {},
   "outputs": [],
   "source": []
  },
  {
   "cell_type": "code",
   "execution_count": null,
   "id": "f15063a6-2ebb-47e6-af12-9e6b3738d933",
   "metadata": {},
   "outputs": [],
   "source": []
  },
  {
   "cell_type": "code",
   "execution_count": 107,
   "id": "6bd74f4c-cf7a-41c5-a8a9-6773edce33c0",
   "metadata": {},
   "outputs": [
    {
     "data": {
      "text/plain": [
       "['data/g1/v1/singles/walk_short.pkl']"
      ]
     },
     "execution_count": 107,
     "metadata": {},
     "output_type": "execute_result"
    }
   ],
   "source": [
    "subset_key = 'walk1_subject5'\n",
    "start, end = 90, 120\n",
    "data_dump = {}\n",
    "for k, v in full_lafan[subset_key].items():\n",
    "    if not k in ['fps']:\n",
    "        data_dump[k] = v[start:end]\n",
    "    else:\n",
    "        data_dump[k] = v\n",
    "joblib.dump({subset_key: data_dump}, \"data/g1/v1/singles/walk_short.pkl\", compress=True)\n"
   ]
  },
  {
   "cell_type": "code",
   "execution_count": 73,
   "id": "9e9e4386-4a5d-4e68-af51-8a746763bf0c",
   "metadata": {},
   "outputs": [
    {
     "data": {
      "text/plain": [
       "array([-0.151367, -0.118991,  0.05803 ,  0.453353, -0.461074,  0.058986,\n",
       "       -0.600443, -0.166162, -0.128207,  0.999351, -0.336191, -0.067373,\n",
       "       -0.012413, -0.056357,  0.026593,  0.004278,  0.177925,  0.134414,\n",
       "        1.156344,  0.235976, -0.232575, -0.0441  ,  0.740262],\n",
       "      dtype=float32)"
      ]
     },
     "execution_count": 73,
     "metadata": {},
     "output_type": "execute_result"
    }
   ],
   "source": [
    "data_dump['dof'][0]"
   ]
  },
  {
   "cell_type": "code",
   "execution_count": 75,
   "id": "b4605148-ad5d-433f-ad80-1d982410c048",
   "metadata": {},
   "outputs": [
    {
     "data": {
      "text/plain": [
       "(30, 30, 3)"
      ]
     },
     "execution_count": 75,
     "metadata": {},
     "output_type": "execute_result"
    }
   ],
   "source": [
    "data_dump['pose_aa'].shape"
   ]
  },
  {
   "cell_type": "code",
   "execution_count": null,
   "id": "76efeabc-4996-4a3e-a29a-e65242137789",
   "metadata": {},
   "outputs": [],
   "source": []
  }
 ],
 "metadata": {
  "kernelspec": {
   "display_name": "Python [conda env:mjx] *",
   "language": "python",
   "name": "conda-env-mjx-py"
  },
  "language_info": {
   "codemirror_mode": {
    "name": "ipython",
    "version": 3
   },
   "file_extension": ".py",
   "mimetype": "text/x-python",
   "name": "python",
   "nbconvert_exporter": "python",
   "pygments_lexer": "ipython3",
   "version": "3.10.15"
  }
 },
 "nbformat": 4,
 "nbformat_minor": 5
}
